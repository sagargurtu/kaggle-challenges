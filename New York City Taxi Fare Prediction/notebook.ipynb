{
 "cells": [
  {
   "cell_type": "markdown",
   "metadata": {},
   "source": [
    "# CSE 519: Data Science\n",
    "\n",
    "## Exploratory Data Analysis in iPython (Kaggle New York City Taxi Fare Prediction)\n",
    "---\n",
    "Author: Sagar Gurtu <br/>"
   ]
  },
  {
   "cell_type": "markdown",
   "metadata": {},
   "source": [
    "---\n",
    "### Task 1"
   ]
  },
  {
   "cell_type": "markdown",
   "metadata": {},
   "source": [
    "1. Initializing the environment and importing the necessary modules"
   ]
  },
  {
   "cell_type": "code",
   "execution_count": 1,
   "metadata": {},
   "outputs": [],
   "source": [
    "import pandas as pd\n",
    "import numpy as np\n",
    "import seaborn as sns\n",
    "import matplotlib.pyplot as plt\n",
    "from sklearn import linear_model\n",
    "from sklearn.tree import DecisionTreeRegressor\n",
    "from sklearn.model_selection import train_test_split\n",
    "from sklearn.metrics import mean_squared_error, r2_score\n",
    "import lightgbm as lgbm\n",
    "import math"
   ]
  },
  {
   "cell_type": "markdown",
   "metadata": {},
   "source": [
    "2. We'll read the training data and parse the pickup dates,"
   ]
  },
  {
   "cell_type": "code",
   "execution_count": 2,
   "metadata": {},
   "outputs": [],
   "source": [
    "df = pd.read_csv('train.csv', nrows = 7500000, parse_dates = [\"pickup_datetime\"])"
   ]
  },
  {
   "cell_type": "markdown",
   "metadata": {},
   "source": [
    "3. Drop the NaN values from dataset"
   ]
  },
  {
   "cell_type": "code",
   "execution_count": 3,
   "metadata": {
    "scrolled": true
   },
   "outputs": [],
   "source": [
    "df = df.dropna(how = 'any', axis = 'rows')"
   ]
  },
  {
   "cell_type": "markdown",
   "metadata": {},
   "source": [
    "4. The minimum fare amount charged (without tips) as per [NYC Fare Rate](http://www.nyc.gov/html/tlc/html/passenger/taxicab_rate.shtml) should be \n",
    "<br/> &nbsp;&nbsp;&nbsp;&nbsp;&nbsp;&nbsp; = Base Fare + State Surcharge + Improvement Fare = $\\$$2.5 + $\\$$0.50 + $\\$$0.30 = $\\$$3.30\n",
    "<br/> On the other hand, the data also contains taxi ride information for years before the base fare was changed (it was $\\$$2 previously) and extra surcharges were added. Since fare amount in the data cannot be lower than this minimum amount, data is filtered to get rows having fare amount &#8805; $\\$$2."
   ]
  },
  {
   "cell_type": "code",
   "execution_count": 4,
   "metadata": {},
   "outputs": [],
   "source": [
    "df = df[df.fare_amount >= 2]"
   ]
  },
  {
   "cell_type": "markdown",
   "metadata": {},
   "source": [
    "5. According to [NYC Resources FAQ](https://www1.nyc.gov/nyc-resources/faq/484/how-many-passengers-are-allowed-in-a-taxi), the maximum passenger count can be 6. Therefore, the data is filtered for passengers greater than 0 and less than 7."
   ]
  },
  {
   "cell_type": "code",
   "execution_count": 5,
   "metadata": {},
   "outputs": [],
   "source": [
    "df = df[(df.passenger_count > 0) & (df.passenger_count < 7)]"
   ]
  },
  {
   "cell_type": "markdown",
   "metadata": {},
   "source": [
    "6. Some of the coordinate data contains 0 values. Since NYC is not located at coordinates (0lat, 0lon) and distances cannot be calculated using this data, these rows can be removed. Moreover, the city of New York is bounded by the coordinates 40 to 41.5 latitude and -74.5 to -73 longitude. Here, we're removing those coordinates well beyond the city limits because although the taxi can go outside NYC, the fare is a flat rate agreed upon between the driver and passenger at the start of the trip (see [FAQ](https://www1.nyc.gov/nyc-resources/faq/488/how-much-does-it-cost-to-take-a-taxi-beyond-the-limits-of-new-york-city)). Also, there are rows where pickup and dropoff coordinates are the same. This maybe due to round trip or something like that. Since, total distances cannot be measured using this, we will remove these rows for now."
   ]
  },
  {
   "cell_type": "code",
   "execution_count": 6,
   "metadata": {},
   "outputs": [],
   "source": [
    "df = df[(df.pickup_latitude >= 40) & (df.pickup_latitude <=41.5)]\n",
    "df = df[(df.dropoff_latitude >= 40) & (df.dropoff_latitude <=41.5)]\n",
    "df = df[(df.pickup_longitude >= -74.5) & (df.pickup_longitude <=-73)]\n",
    "df = df[(df.dropoff_longitude >= -74.5) & (df.dropoff_longitude <=-73)]\n",
    "df = df[(df.pickup_latitude != df.dropoff_latitude) & (df.pickup_longitude != df.dropoff_longitude)]"
   ]
  },
  {
   "cell_type": "markdown",
   "metadata": {},
   "source": [
    "7. Now, lets look at the dataset statistics"
   ]
  },
  {
   "cell_type": "code",
   "execution_count": 7,
   "metadata": {
    "scrolled": true
   },
   "outputs": [
    {
     "data": {
      "text/html": [
       "<div>\n",
       "<style scoped>\n",
       "    .dataframe tbody tr th:only-of-type {\n",
       "        vertical-align: middle;\n",
       "    }\n",
       "\n",
       "    .dataframe tbody tr th {\n",
       "        vertical-align: top;\n",
       "    }\n",
       "\n",
       "    .dataframe thead th {\n",
       "        text-align: right;\n",
       "    }\n",
       "</style>\n",
       "<table border=\"1\" class=\"dataframe\">\n",
       "  <thead>\n",
       "    <tr style=\"text-align: right;\">\n",
       "      <th></th>\n",
       "      <th>fare_amount</th>\n",
       "      <th>pickup_longitude</th>\n",
       "      <th>pickup_latitude</th>\n",
       "      <th>dropoff_longitude</th>\n",
       "      <th>dropoff_latitude</th>\n",
       "      <th>passenger_count</th>\n",
       "    </tr>\n",
       "  </thead>\n",
       "  <tbody>\n",
       "    <tr>\n",
       "      <th>count</th>\n",
       "      <td>7.234467e+06</td>\n",
       "      <td>7.234467e+06</td>\n",
       "      <td>7.234467e+06</td>\n",
       "      <td>7.234467e+06</td>\n",
       "      <td>7.234467e+06</td>\n",
       "      <td>7.234467e+06</td>\n",
       "    </tr>\n",
       "    <tr>\n",
       "      <th>mean</th>\n",
       "      <td>1.132748e+01</td>\n",
       "      <td>-7.397549e+01</td>\n",
       "      <td>4.075094e+01</td>\n",
       "      <td>-7.397462e+01</td>\n",
       "      <td>4.075132e+01</td>\n",
       "      <td>1.690526e+00</td>\n",
       "    </tr>\n",
       "    <tr>\n",
       "      <th>std</th>\n",
       "      <td>9.605704e+00</td>\n",
       "      <td>3.591110e-02</td>\n",
       "      <td>2.793448e-02</td>\n",
       "      <td>3.499423e-02</td>\n",
       "      <td>3.134803e-02</td>\n",
       "      <td>1.305907e+00</td>\n",
       "    </tr>\n",
       "    <tr>\n",
       "      <th>min</th>\n",
       "      <td>2.000000e+00</td>\n",
       "      <td>-7.449954e+01</td>\n",
       "      <td>4.000684e+01</td>\n",
       "      <td>-7.449994e+01</td>\n",
       "      <td>4.000000e+01</td>\n",
       "      <td>1.000000e+00</td>\n",
       "    </tr>\n",
       "    <tr>\n",
       "      <th>25%</th>\n",
       "      <td>6.000000e+00</td>\n",
       "      <td>-7.399230e+01</td>\n",
       "      <td>4.073657e+01</td>\n",
       "      <td>-7.399159e+01</td>\n",
       "      <td>4.073561e+01</td>\n",
       "      <td>1.000000e+00</td>\n",
       "    </tr>\n",
       "    <tr>\n",
       "      <th>50%</th>\n",
       "      <td>8.500000e+00</td>\n",
       "      <td>-7.398213e+01</td>\n",
       "      <td>4.075336e+01</td>\n",
       "      <td>-7.398064e+01</td>\n",
       "      <td>4.075389e+01</td>\n",
       "      <td>1.000000e+00</td>\n",
       "    </tr>\n",
       "    <tr>\n",
       "      <th>75%</th>\n",
       "      <td>1.250000e+01</td>\n",
       "      <td>-7.396848e+01</td>\n",
       "      <td>4.076753e+01</td>\n",
       "      <td>-7.396554e+01</td>\n",
       "      <td>4.076840e+01</td>\n",
       "      <td>2.000000e+00</td>\n",
       "    </tr>\n",
       "    <tr>\n",
       "      <th>max</th>\n",
       "      <td>9.520000e+02</td>\n",
       "      <td>-7.300002e+01</td>\n",
       "      <td>4.149911e+01</td>\n",
       "      <td>-7.300116e+01</td>\n",
       "      <td>4.150000e+01</td>\n",
       "      <td>6.000000e+00</td>\n",
       "    </tr>\n",
       "  </tbody>\n",
       "</table>\n",
       "</div>"
      ],
      "text/plain": [
       "        fare_amount  pickup_longitude  pickup_latitude  dropoff_longitude  \\\n",
       "count  7.234467e+06      7.234467e+06     7.234467e+06       7.234467e+06   \n",
       "mean   1.132748e+01     -7.397549e+01     4.075094e+01      -7.397462e+01   \n",
       "std    9.605704e+00      3.591110e-02     2.793448e-02       3.499423e-02   \n",
       "min    2.000000e+00     -7.449954e+01     4.000684e+01      -7.449994e+01   \n",
       "25%    6.000000e+00     -7.399230e+01     4.073657e+01      -7.399159e+01   \n",
       "50%    8.500000e+00     -7.398213e+01     4.075336e+01      -7.398064e+01   \n",
       "75%    1.250000e+01     -7.396848e+01     4.076753e+01      -7.396554e+01   \n",
       "max    9.520000e+02     -7.300002e+01     4.149911e+01      -7.300116e+01   \n",
       "\n",
       "       dropoff_latitude  passenger_count  \n",
       "count      7.234467e+06     7.234467e+06  \n",
       "mean       4.075132e+01     1.690526e+00  \n",
       "std        3.134803e-02     1.305907e+00  \n",
       "min        4.000000e+01     1.000000e+00  \n",
       "25%        4.073561e+01     1.000000e+00  \n",
       "50%        4.075389e+01     1.000000e+00  \n",
       "75%        4.076840e+01     2.000000e+00  \n",
       "max        4.150000e+01     6.000000e+00  "
      ]
     },
     "execution_count": 7,
     "metadata": {},
     "output_type": "execute_result"
    }
   ],
   "source": [
    "df.describe()"
   ]
  },
  {
   "cell_type": "markdown",
   "metadata": {},
   "source": [
    "8. Using the coordinates, we can calculate the distances travelled by the taxi. Euclidean distance between any two points in a cartesian coordinate system is:\n",
    "$\\sqrt{(x_2-x_1)^2 + (y_2-y_1)^2}$ where the points are $(x_1, y_1)$ and $(x_2, y_2)$"
   ]
  },
  {
   "cell_type": "code",
   "execution_count": 8,
   "metadata": {},
   "outputs": [],
   "source": [
    "def euclidean_distance(row):\n",
    "    x1 = row.pickup_latitude\n",
    "    y1 = row.pickup_longitude\n",
    "    x2 = row.dropoff_latitude\n",
    "    y2 = row.dropoff_longitude\n",
    "    \n",
    "    return math.sqrt((x2-x1)**2 + (y2-y1)**2)"
   ]
  },
  {
   "cell_type": "markdown",
   "metadata": {},
   "source": [
    "9. Now, we'll add the euclidean distance as a new column in our data set."
   ]
  },
  {
   "cell_type": "code",
   "execution_count": 9,
   "metadata": {},
   "outputs": [],
   "source": [
    "df['euclidean_distance'] = df.apply (lambda row: euclidean_distance(row), axis = 1)"
   ]
  },
  {
   "cell_type": "markdown",
   "metadata": {},
   "source": [
    "10. Since, it is a geographical coordinate system and not a cartesian system, we'll compute the Haversine distance (see [Haversine Formula](https://en.wikipedia.org/wiki/Haversine_formula)) which gives the true distance between two points on a sphere."
   ]
  },
  {
   "cell_type": "code",
   "execution_count": 10,
   "metadata": {},
   "outputs": [],
   "source": [
    "def haversine_distance(row):\n",
    "    lat1 = row.pickup_latitude\n",
    "    lon1 = row.pickup_longitude\n",
    "    lat2 = row.dropoff_latitude\n",
    "    lon2 = row.dropoff_longitude\n",
    "     \n",
    "    lon1, lat1, lon2, lat2 = map(math.radians, [lon1, lat1, lon2, lat2])\n",
    "\n",
    "    a = math.sin((lat2 - lat1)/2)**2 + math.cos(lat1) * math.cos(lat2) * math.sin((lon2 - lon1)/2)**2\n",
    "    c = 2 * math.asin(math.sqrt(a)) \n",
    "    r = 3959  #miles\n",
    "    return c * r"
   ]
  },
  {
   "cell_type": "markdown",
   "metadata": {},
   "source": [
    "11. Adding the haversine distance (in miles) to the data set,"
   ]
  },
  {
   "cell_type": "code",
   "execution_count": 11,
   "metadata": {},
   "outputs": [],
   "source": [
    "df['haversine_distance'] = df.apply (lambda row: haversine_distance(row), axis = 1)"
   ]
  },
  {
   "cell_type": "code",
   "execution_count": 12,
   "metadata": {
    "scrolled": false
   },
   "outputs": [
    {
     "data": {
      "text/plain": [
       "count    7.234467e+06\n",
       "mean     2.091624e+00\n",
       "std      2.347497e+00\n",
       "min      8.648332e-05\n",
       "25%      7.948818e-01\n",
       "50%      1.353023e+00\n",
       "75%      2.449760e+00\n",
       "max      8.259279e+01\n",
       "Name: haversine_distance, dtype: float64"
      ]
     },
     "execution_count": 12,
     "metadata": {},
     "output_type": "execute_result"
    }
   ],
   "source": [
    "df['haversine_distance'].describe()"
   ]
  },
  {
   "cell_type": "markdown",
   "metadata": {},
   "source": [
    "12. Now, lets look at the fare amounts"
   ]
  },
  {
   "cell_type": "code",
   "execution_count": 13,
   "metadata": {
    "scrolled": false
   },
   "outputs": [
    {
     "data": {
      "text/plain": [
       "count    7.234467e+06\n",
       "mean     1.132748e+01\n",
       "std      9.605704e+00\n",
       "min      2.000000e+00\n",
       "25%      6.000000e+00\n",
       "50%      8.500000e+00\n",
       "75%      1.250000e+01\n",
       "max      9.520000e+02\n",
       "Name: fare_amount, dtype: float64"
      ]
     },
     "execution_count": 13,
     "metadata": {},
     "output_type": "execute_result"
    }
   ],
   "source": [
    "df['fare_amount'].describe()"
   ]
  },
  {
   "cell_type": "markdown",
   "metadata": {},
   "source": [
    "13. It can be seen that the maximum fare is quite large as compared to the 75% quartile. Looking at the rows for such large fares, we can notice that the fares for even small distances (<=1 mile) are quite large."
   ]
  },
  {
   "cell_type": "code",
   "execution_count": 14,
   "metadata": {},
   "outputs": [
    {
     "name": "stdout",
     "output_type": "stream",
     "text": [
      "                                   key  fare_amount     pickup_datetime  \\\n",
      "233874     2012-10-28 14:14:44.0000001       450.00 2012-10-28 14:14:44   \n",
      "287638     2015-03-11 16:25:21.0000007       450.00 2015-03-11 16:25:21   \n",
      "329010   2011-07-29 14:19:00.000000200       450.00 2011-07-29 14:19:00   \n",
      "361793    2011-05-05 08:39:00.00000018       400.00 2011-05-05 08:39:00   \n",
      "451974     2011-10-08 05:17:04.0000002       400.00 2011-10-08 05:17:04   \n",
      "951810     2015-03-24 17:14:27.0000001       347.54 2015-03-24 17:14:27   \n",
      "1004275    2012-02-02 23:52:37.0000004       325.00 2012-02-02 23:52:37   \n",
      "1215047   2011-09-08 00:32:00.00000020       488.00 2011-09-08 00:32:00   \n",
      "1950951   2011-04-18 00:25:00.00000053       430.00 2011-04-18 00:25:00   \n",
      "1961485  2014-04-28 14:32:00.000000132       315.00 2014-04-28 14:32:00   \n",
      "2380175    2014-05-28 08:41:32.0000003       353.33 2014-05-28 08:41:32   \n",
      "3206977    2015-02-03 14:50:22.0000003       542.83 2015-02-03 14:50:22   \n",
      "3316931    2012-12-14 04:08:28.0000001       500.00 2012-12-14 04:08:28   \n",
      "4573056    2014-08-19 22:37:42.0000002       320.52 2014-08-19 22:37:42   \n",
      "4881284    2015-06-01 14:46:27.0000001       325.00 2015-06-01 14:46:27   \n",
      "4894706   2015-02-09 15:22:07.00000013       952.00 2015-02-09 15:22:07   \n",
      "4907207    2011-09-07 02:08:43.0000002       423.00 2011-09-07 02:08:43   \n",
      "6493742   2014-07-20 02:28:00.00000042       305.00 2014-07-20 02:28:00   \n",
      "7009310    2013-03-07 23:34:32.0000003       500.00 2013-03-07 23:34:32   \n",
      "7236013  2013-01-16 20:07:00.000000220       450.00 2013-01-16 20:07:00   \n",
      "\n",
      "         pickup_longitude  pickup_latitude  dropoff_longitude  \\\n",
      "233874         -73.931985        40.793829         -73.929148   \n",
      "287638         -73.909019        40.777611         -73.908997   \n",
      "329010         -73.955373        40.810310         -73.955372   \n",
      "361793         -73.852663        40.897932         -73.852673   \n",
      "451974         -73.943676        40.708061         -73.943665   \n",
      "951810         -73.811020        40.693180         -73.138634   \n",
      "1004275        -73.994986        40.752800         -73.997357   \n",
      "1215047        -73.999437        40.721837         -74.048855   \n",
      "1950951        -73.952285        40.808140         -73.952288   \n",
      "1961485        -73.971238        40.762835         -73.474743   \n",
      "2380175        -73.824327        40.784047         -73.037901   \n",
      "3206977        -73.863289        40.769989         -73.959152   \n",
      "3316931        -73.849123        40.836440         -73.848573   \n",
      "4573056        -73.994137        40.745221         -73.994214   \n",
      "4881284        -73.807274        40.655006         -74.412598   \n",
      "4894706        -73.996712        40.757793         -73.782890   \n",
      "4907207        -73.990202        40.740340         -73.994580   \n",
      "6493742        -74.077393        40.807618         -74.436125   \n",
      "7009310        -73.900865        40.725692         -73.669810   \n",
      "7236013        -73.899820        40.748588         -73.899823   \n",
      "\n",
      "         dropoff_latitude  passenger_count  euclidean_distance  \\\n",
      "233874          40.799672                1            0.006495   \n",
      "287638          40.777607                1            0.000023   \n",
      "329010          40.810323                1            0.000013   \n",
      "361793          40.897923                1            0.000013   \n",
      "451974          40.708141                1            0.000081   \n",
      "951810          41.261410                1            0.880334   \n",
      "1004275         40.754508                1            0.002922   \n",
      "1215047         40.731560                1            0.050365   \n",
      "1950951         40.808137                1            0.000004   \n",
      "1961485         41.383467                1            0.794790   \n",
      "2380175         41.235261                1            0.906675   \n",
      "3206977         40.762569                1            0.096150   \n",
      "3316931         40.836094                1            0.000650   \n",
      "4573056         40.745165                1            0.000095   \n",
      "4881284         40.861477                1            0.639568   \n",
      "4894706         40.643925                2            0.242251   \n",
      "4907207         40.742009                1            0.004685   \n",
      "6493742         40.261527                3            0.653379   \n",
      "7009310         40.692113                3            0.233482   \n",
      "7236013         40.748582                1            0.000007   \n",
      "\n",
      "         haversine_distance  \n",
      "233874             0.430147  \n",
      "287638             0.001226  \n",
      "329010             0.000900  \n",
      "361793             0.000812  \n",
      "451974             0.005558  \n",
      "951810            52.648827  \n",
      "1004275            0.171262  \n",
      "1215047            2.673526  \n",
      "1950951            0.000260  \n",
      "1961485           50.079055  \n",
      "2380175           51.511422  \n",
      "3206977            5.042952  \n",
      "3316931            0.037394  \n",
      "4573056            0.005588  \n",
      "4881284           34.746176  \n",
      "4894706           13.688214  \n",
      "4907207            0.256579  \n",
      "6493742           42.174823  \n",
      "7009310           12.322661  \n",
      "7236013            0.000443  \n"
     ]
    }
   ],
   "source": [
    "print df[df['fare_amount'] > 300]"
   ]
  },
  {
   "cell_type": "markdown",
   "metadata": {},
   "source": [
    "14. We can calculate an upper bound on the fare amount for 1 mile haversine distance and use it to remove outliers. According to [NYC Fare Rate](https://www1.nyc.gov/nyc-resources/service/1271/yellow-taxi-fares), an estimate maximum upper bound (extremely worst case) on 1 mile distance would be <br/>\n",
    "    = Standard Fare Rate + Every Fifth of mile rate + Less than 12 miles per hour rate + Night Surcharge + Weekday Surcharge<br/>\n",
    "    = $\\$$3.30 + 5 \\* $\\$$0.50 + 60 \\* $\\$$0.50 + $\\$$1.00 + $\\$$0.50\n",
    "    $\\approx$ $\\$$100 (extremely worst case)\n",
    "    \n",
    "Lets see how many rows are there where distance travelled is less than or equal to 1 mile and fare amount is greater than \\$100"
   ]
  },
  {
   "cell_type": "code",
   "execution_count": 15,
   "metadata": {},
   "outputs": [
    {
     "name": "stdout",
     "output_type": "stream",
     "text": [
      "492\n"
     ]
    }
   ],
   "source": [
    "print len(df[(df['haversine_distance']<=1) & (df['fare_amount']>100)])"
   ]
  },
  {
   "cell_type": "markdown",
   "metadata": {},
   "source": [
    "15. Dropping these rows,"
   ]
  },
  {
   "cell_type": "code",
   "execution_count": 16,
   "metadata": {
    "scrolled": true
   },
   "outputs": [],
   "source": [
    "df = df.drop(df[(df['haversine_distance']<=1) & (df['fare_amount']>100)].index)"
   ]
  },
  {
   "cell_type": "markdown",
   "metadata": {},
   "source": [
    "---\n",
    "### Task 2"
   ]
  },
  {
   "cell_type": "markdown",
   "metadata": {},
   "source": [
    "**Correlation between Euclidean distance and taxi fare**"
   ]
  },
  {
   "cell_type": "markdown",
   "metadata": {},
   "source": [
    "Calulating pearson correlation coefficients using numpy,"
   ]
  },
  {
   "cell_type": "code",
   "execution_count": 17,
   "metadata": {
    "scrolled": true
   },
   "outputs": [
    {
     "data": {
      "text/plain": [
       "0.8518733801516434"
      ]
     },
     "execution_count": 17,
     "metadata": {},
     "output_type": "execute_result"
    }
   ],
   "source": [
    "np.corrcoef(df.euclidean_distance, df.fare_amount)[0, 1]"
   ]
  },
  {
   "cell_type": "code",
   "execution_count": 18,
   "metadata": {
    "scrolled": false
   },
   "outputs": [
    {
     "data": {
      "text/plain": [
       "0.8435406884693127"
      ]
     },
     "execution_count": 18,
     "metadata": {},
     "output_type": "execute_result"
    }
   ],
   "source": [
    "np.corrcoef(df.haversine_distance, df.fare_amount)[0, 1]"
   ]
  },
  {
   "cell_type": "markdown",
   "metadata": {},
   "source": [
    "**Correlation between time of the day and Euclidean distance**<br/>\n",
    "For time of the day, we first need to extract the time from pickup_datetime and create a new column for it."
   ]
  },
  {
   "cell_type": "code",
   "execution_count": 19,
   "metadata": {},
   "outputs": [],
   "source": [
    "df['pickup_time'] = df.apply (lambda row: row.pickup_datetime.time(), axis = 1)"
   ]
  },
  {
   "cell_type": "markdown",
   "metadata": {},
   "source": [
    "To calculate correlation between time of the day and distance travelled, we would first convert the time to its decimal representation. Here, we would consider decimal representation as number of hours elapsed since the day started."
   ]
  },
  {
   "cell_type": "code",
   "execution_count": 20,
   "metadata": {},
   "outputs": [],
   "source": [
    "def time_in_hours(t):\n",
    "    st = t.strftime('%H:%M:%S')\n",
    "    (h, m, s) = st.split(':')\n",
    "    return float(h) + float(m) / 60 + float(s) / 3600"
   ]
  },
  {
   "cell_type": "markdown",
   "metadata": {},
   "source": [
    "Adding a column for time of the day in hours elapsed,"
   ]
  },
  {
   "cell_type": "code",
   "execution_count": 21,
   "metadata": {},
   "outputs": [],
   "source": [
    "df['pickup_time_hours'] = df.apply (lambda row: time_in_hours(row.pickup_time), axis = 1)"
   ]
  },
  {
   "cell_type": "markdown",
   "metadata": {},
   "source": [
    "The Pearson Correlation coefficient between time of the day and euclidean distance is given by,"
   ]
  },
  {
   "cell_type": "code",
   "execution_count": 22,
   "metadata": {
    "scrolled": true
   },
   "outputs": [
    {
     "data": {
      "text/plain": [
       "-0.028971437199770064"
      ]
     },
     "execution_count": 22,
     "metadata": {},
     "output_type": "execute_result"
    }
   ],
   "source": [
    "np.corrcoef(df.pickup_time_hours, df.euclidean_distance)[0, 1]"
   ]
  },
  {
   "cell_type": "markdown",
   "metadata": {},
   "source": [
    "**Correlation between time of the day and taxi fare**<br/>\n",
    "The Pearson Correlation coefficient between time of the day and fare amount is given by,"
   ]
  },
  {
   "cell_type": "code",
   "execution_count": 23,
   "metadata": {
    "scrolled": true
   },
   "outputs": [
    {
     "data": {
      "text/plain": [
       "-0.017431284134379256"
      ]
     },
     "execution_count": 23,
     "metadata": {},
     "output_type": "execute_result"
    }
   ],
   "source": [
    "np.corrcoef(df.pickup_time_hours, df.fare_amount)[0, 1]"
   ]
  },
  {
   "cell_type": "markdown",
   "metadata": {},
   "source": [
    "---\n",
    "### Task 3"
   ]
  },
  {
   "cell_type": "markdown",
   "metadata": {},
   "source": [
    "**Scatter Plot between euclidean distance and taxi fare**"
   ]
  },
  {
   "cell_type": "code",
   "execution_count": 24,
   "metadata": {
    "scrolled": true
   },
   "outputs": [
    {
     "data": {
      "text/plain": [
       "[Text(0,0.5,'Fare'),\n",
       " Text(0.5,0,'Euclidean Distance'),\n",
       " Text(0.5,1,'Euclidean Distance vs Fare')]"
      ]
     },
     "execution_count": 24,
     "metadata": {},
     "output_type": "execute_result"
    },
    {
     "data": {
      "image/png": "[encoded data removed]",
      "text/plain": [
       "<Figure size 432x288 with 1 Axes>"
      ]
     },
     "metadata": {},
     "output_type": "display_data"
    }
   ],
   "source": [
    "sns.regplot(x = 'euclidean_distance', y = 'fare_amount', data = df).set(xlabel='Euclidean Distance', ylabel='Fare',title='Euclidean Distance vs Fare')"
   ]
  },
  {
   "cell_type": "markdown",
   "metadata": {},
   "source": [
    "**Scatter Plot between haversine distance and taxi fare**"
   ]
  },
  {
   "cell_type": "code",
   "execution_count": 25,
   "metadata": {
    "scrolled": true
   },
   "outputs": [
    {
     "data": {
      "text/plain": [
       "[Text(0,0.5,'Fare'),\n",
       " Text(0.5,0,'Haversine Distance (miles)'),\n",
       " Text(0.5,1,'Haversince Distance vs Fare')]"
      ]
     },
     "execution_count": 25,
     "metadata": {},
     "output_type": "execute_result"
    },
    {
     "data": {
      "image/png": "[encoded data removed]",
      "text/plain": [
       "<Figure size 432x288 with 1 Axes>"
      ]
     },
     "metadata": {},
     "output_type": "display_data"
    }
   ],
   "source": [
    "sns.regplot(x = 'haversine_distance', y = 'fare_amount', data = df).set(xlabel='Haversine Distance (miles)', ylabel='Fare',title='Haversine Distance vs Fare')"
   ]
  },
  {
   "cell_type": "markdown",
   "metadata": {},
   "source": [
    "The distance and the fare amount seem to be positively correlated. This is obvious since the fare amount includes a charge depending upon the distance traveled. Looking at the scatter plot, some outlier data points can be seen. For example, there is a fare amounting to nearly $\\$$970 for a 15 mile distance. This may be noise or it may have happened due to traffic signals, slow speeds, traffic jams etc. Moreover, we can see that there are some extremely low fares for far away distances. Some of these may be outliers/bad data or on the other hand, the passenger may have used some discount coupon."
   ]
  },
  {
   "cell_type": "markdown",
   "metadata": {},
   "source": [
    "\n",
    "\n",
    "**Plot between time of day and euclidean distance**"
   ]
  },
  {
   "cell_type": "code",
   "execution_count": 26,
   "metadata": {
    "scrolled": true
   },
   "outputs": [
    {
     "data": {
      "text/plain": [
       "[Text(0,0.5,'Euclidean Distance'),\n",
       " Text(0.5,0,'Time of the Day'),\n",
       " Text(0.5,1,'Time of Day vs Euclidean Distance')]"
      ]
     },
     "execution_count": 26,
     "metadata": {},
     "output_type": "execute_result"
    },
    {
     "data": {
      "image/png": "[encoded data removed]",
      "text/plain": [
       "<Figure size 432x288 with 1 Axes>"
      ]
     },
     "metadata": {},
     "output_type": "display_data"
    }
   ],
   "source": [
    "sns.regplot(x = 'pickup_time_hours', y = 'euclidean_distance', data = df).set(xlabel='Time of the Day', ylabel='Euclidean Distance',title='Time of Day vs Euclidean Distance')"
   ]
  },
  {
   "cell_type": "markdown",
   "metadata": {},
   "source": [
    "The pickup time of the day and the distance traveled does not seem to be correlated. It can be seen that people do not tend to travel far away distances between around 3am to 6am. Also, as compared to longer distances, the number of short trips are really high."
   ]
  },
  {
   "cell_type": "markdown",
   "metadata": {},
   "source": [
    "**Plot between time of day and taxi fare**"
   ]
  },
  {
   "cell_type": "code",
   "execution_count": 27,
   "metadata": {
    "scrolled": true
   },
   "outputs": [
    {
     "data": {
      "text/plain": [
       "[Text(0,0.5,'Fare'),\n",
       " Text(0.5,0,'Time of the Day'),\n",
       " Text(0.5,1,'Time of day vs Fare')]"
      ]
     },
     "execution_count": 27,
     "metadata": {},
     "output_type": "execute_result"
    },
    {
     "data": {
      "image/png": "[encoded data removed]",
      "text/plain": [
       "<Figure size 432x288 with 1 Axes>"
      ]
     },
     "metadata": {},
     "output_type": "display_data"
    }
   ],
   "source": [
    "sns.regplot(x = 'pickup_time_hours', y = 'fare_amount', data = df).set(xlabel='Time of the Day', ylabel='Fare',title='Time of day vs Fare')"
   ]
  },
  {
   "cell_type": "markdown",
   "metadata": {},
   "source": [
    "The pickup time and the fare amount does not seem to be correlated. In the plot, it can be seen that fare amounts touch above $\\$$400. These may be outliers or far away distances."
   ]
  },
  {
   "cell_type": "markdown",
   "metadata": {},
   "source": [
    "---\n",
    "### Task 4"
   ]
  },
  {
   "cell_type": "markdown",
   "metadata": {},
   "source": [
    "Let's create a box plot for passenger count"
   ]
  },
  {
   "cell_type": "code",
   "execution_count": 28,
   "metadata": {
    "scrolled": false
   },
   "outputs": [
    {
     "data": {
      "text/plain": [
       "[Text(0,0.5,'Passenger Count'), Text(0.5,1,'Passenger Count')]"
      ]
     },
     "execution_count": 28,
     "metadata": {},
     "output_type": "execute_result"
    },
    {
     "data": {
      "image/png": "[encoded data removed]",
      "text/plain": [
       "<Figure size 432x288 with 1 Axes>"
      ]
     },
     "metadata": {},
     "output_type": "display_data"
    }
   ],
   "source": [
    "sns.boxplot(y = 'passenger_count', data = df).set(ylabel='Passenger Count',title='Passenger Count')"
   ]
  },
  {
   "cell_type": "markdown",
   "metadata": {},
   "source": [
    "Here, we can see that most of the taxi rides consisted of just 1 or 2 passengers.\n",
    "\n",
    "Plotting passenger count vs the distance travelled,"
   ]
  },
  {
   "cell_type": "code",
   "execution_count": 29,
   "metadata": {
    "scrolled": true
   },
   "outputs": [
    {
     "data": {
      "text/plain": [
       "[Text(0,0.5,'Haversine Distance'),\n",
       " Text(0.5,0,'Passenger Count'),\n",
       " Text(0.5,1,'Passenger Count vs Haversine Distance (miles)')]"
      ]
     },
     "execution_count": 29,
     "metadata": {},
     "output_type": "execute_result"
    },
    {
     "data": {
      "image/png": "[encoded data removed]",
      "text/plain": [
       "<Figure size 432x288 with 1 Axes>"
      ]
     },
     "metadata": {},
     "output_type": "display_data"
    }
   ],
   "source": [
    "sns.regplot(x = 'passenger_count', y = 'haversine_distance', data = df).set(xlabel='Passenger Count', ylabel='Haversine Distance',title='Passenger Count vs Haversine Distance (miles)')"
   ]
  },
  {
   "cell_type": "markdown",
   "metadata": {},
   "source": [
    "This shows that the rides with 4 or more passengers did not travel long distances as compared to rides with fewer passengers."
   ]
  },
  {
   "cell_type": "markdown",
   "metadata": {},
   "source": [
    "Let's plot a distribution for the fare amount,"
   ]
  },
  {
   "cell_type": "code",
   "execution_count": 30,
   "metadata": {
    "scrolled": false
   },
   "outputs": [
    {
     "data": {
      "text/plain": [
       "[Text(0.5,0,'Fare Amount'), Text(0.5,1,'Distribution of Fare')]"
      ]
     },
     "execution_count": 30,
     "metadata": {},
     "output_type": "execute_result"
    },
    {
     "data": {
      "image/png": "[encoded data removed]",
      "text/plain": [
       "<Figure size 432x288 with 1 Axes>"
      ]
     },
     "metadata": {},
     "output_type": "display_data"
    }
   ],
   "source": [
    "sns.distplot(df['fare_amount']).set(xlabel='Fare Amount',title='Distribution of Fare')"
   ]
  },
  {
   "cell_type": "markdown",
   "metadata": {},
   "source": [
    "Most of the fare amounts seem to be < $\\$$40. There appears to be a small spike towards the end of the distribution which mostly would be outliers."
   ]
  },
  {
   "cell_type": "markdown",
   "metadata": {},
   "source": [
    "---\n",
    "### Task 5"
   ]
  },
  {
   "cell_type": "markdown",
   "metadata": {},
   "source": [
    "We'll split the pickup datetime into years, months, week and day"
   ]
  },
  {
   "cell_type": "code",
   "execution_count": 31,
   "metadata": {},
   "outputs": [],
   "source": [
    "df['pickup_year'] = df.apply (lambda row: row.pickup_datetime.year, axis = 1)"
   ]
  },
  {
   "cell_type": "code",
   "execution_count": 33,
   "metadata": {},
   "outputs": [],
   "source": [
    "df['pickup_month'] = df.apply (lambda row: row.pickup_datetime.month, axis = 1)"
   ]
  },
  {
   "cell_type": "code",
   "execution_count": 34,
   "metadata": {},
   "outputs": [],
   "source": [
    "df['pickup_weekday'] = df.apply (lambda row: row.pickup_datetime.weekday(), axis = 1)"
   ]
  },
  {
   "cell_type": "code",
   "execution_count": 35,
   "metadata": {},
   "outputs": [],
   "source": [
    "df['pickup_day'] = df.apply (lambda row: row.pickup_datetime.day, axis = 1)"
   ]
  },
  {
   "cell_type": "markdown",
   "metadata": {},
   "source": [
    "Let's use the above features for finding some additional information.\n",
    "\n",
    "From the below plot, there does not seem to be much difference in number of passengers per ride over the years except for the 6 passengers per ride bin which has slightly increased."
   ]
  },
  {
   "cell_type": "code",
   "execution_count": 36,
   "metadata": {},
   "outputs": [
    {
     "data": {
      "text/plain": [
       "[Text(0,0.5,'Frequency'),\n",
       " Text(0.5,0,'Pickup Year'),\n",
       " Text(0.5,1,'Frequency of Passenger Count Per Ride For Each Year')]"
      ]
     },
     "execution_count": 36,
     "metadata": {},
     "output_type": "execute_result"
    },
    {
     "data": {
      "image/png": "[encoded data removed]",
      "text/plain": [
       "<Figure size 432x288 with 1 Axes>"
      ]
     },
     "metadata": {},
     "output_type": "display_data"
    }
   ],
   "source": [
    "sns.countplot(x=\"pickup_year\", hue=\"passenger_count\", data=df).set(xlabel='Pickup Year', ylabel='Frequency',title='Frequency of Passenger Count Per Ride For Each Year')"
   ]
  },
  {
   "cell_type": "markdown",
   "metadata": {},
   "source": [
    "Also, it can be seen that over the years, the number of higher fare rides have very slightly increased,"
   ]
  },
  {
   "cell_type": "code",
   "execution_count": 37,
   "metadata": {},
   "outputs": [
    {
     "data": {
      "text/plain": [
       "[Text(0,0.5,'Fare'),\n",
       " Text(0.5,0,'Pickup Year'),\n",
       " Text(0.5,1,'Pickup Year vs Fare')]"
      ]
     },
     "execution_count": 37,
     "metadata": {},
     "output_type": "execute_result"
    },
    {
     "data": {
      "image/png": "[encoded data removed]",
      "text/plain": [
       "<Figure size 432x288 with 1 Axes>"
      ]
     },
     "metadata": {},
     "output_type": "display_data"
    }
   ],
   "source": [
    "sns.regplot(x = 'pickup_year', y = 'fare_amount', data = df, fit_reg=False).set(xlabel='Pickup Year', ylabel='Fare',title='Pickup Year vs Fare')"
   ]
  },
  {
   "cell_type": "markdown",
   "metadata": {},
   "source": [
    "We can also create a column stating if it is night time for taking it's surcharge into account."
   ]
  },
  {
   "cell_type": "code",
   "execution_count": 38,
   "metadata": {},
   "outputs": [],
   "source": [
    "df['night'] = df.apply (lambda row: (1 if (row.pickup_time_hours>=20 or row.pickup_time_hours<8) else 0), axis = 1)"
   ]
  },
  {
   "cell_type": "code",
   "execution_count": 39,
   "metadata": {},
   "outputs": [
    {
     "data": {
      "text/plain": [
       "[Text(0,0.5,'Frequency'),\n",
       " Text(0.5,0,'Is Night Ride?'),\n",
       " Text(0.5,1,'Frequency of Daytime and Nighttime rides')]"
      ]
     },
     "execution_count": 39,
     "metadata": {},
     "output_type": "execute_result"
    },
    {
     "data": {
      "image/png": "[encoded data removed]",
      "text/plain": [
       "<Figure size 432x288 with 1 Axes>"
      ]
     },
     "metadata": {},
     "output_type": "display_data"
    }
   ],
   "source": [
    "sns.countplot(x=\"night\", data=df).set(xlabel='Is Night Ride?', ylabel='Frequency', title='Frequency of Daytime and Nighttime rides')"
   ]
  },
  {
   "cell_type": "markdown",
   "metadata": {},
   "source": [
    "There were more day time rides than night."
   ]
  },
  {
   "cell_type": "markdown",
   "metadata": {},
   "source": [
    "Plotting correlation of fare amount with all other features, we see that it is highly correlated with distance features and very weakly related to separated date time features."
   ]
  },
  {
   "cell_type": "code",
   "execution_count": 40,
   "metadata": {},
   "outputs": [
    {
     "data": {
      "text/plain": [
       "Text(0.5,1,'Correlation with Fare Amount')"
      ]
     },
     "execution_count": 40,
     "metadata": {},
     "output_type": "execute_result"
    },
    {
     "data": {
      "image/png": "[encoded data removed]",
      "text/plain": [
       "<Figure size 432x288 with 1 Axes>"
      ]
     },
     "metadata": {},
     "output_type": "display_data"
    }
   ],
   "source": [
    "df.corr()['fare_amount'].plot.bar().set_title('Correlation with Fare Amount')"
   ]
  },
  {
   "cell_type": "markdown",
   "metadata": {},
   "source": [
    "---\n",
    "### Task 6"
   ]
  },
  {
   "cell_type": "markdown",
   "metadata": {},
   "source": [
    "1. The following code creates a simple linear regression model"
   ]
  },
  {
   "cell_type": "code",
   "execution_count": 150,
   "metadata": {},
   "outputs": [],
   "source": [
    "lm = linear_model.LinearRegression()"
   ]
  },
  {
   "cell_type": "markdown",
   "metadata": {},
   "source": [
    "2. We'll have a look at all the columns existing and created so far"
   ]
  },
  {
   "cell_type": "code",
   "execution_count": 151,
   "metadata": {
    "scrolled": true
   },
   "outputs": [
    {
     "data": {
      "text/plain": [
       "key                           object\n",
       "fare_amount                  float64\n",
       "pickup_datetime       datetime64[ns]\n",
       "pickup_longitude             float64\n",
       "pickup_latitude              float64\n",
       "dropoff_longitude            float64\n",
       "dropoff_latitude             float64\n",
       "passenger_count                int64\n",
       "euclidean_distance           float64\n",
       "haversine_distance           float64\n",
       "pickup_time                   object\n",
       "pickup_time_hours            float64\n",
       "pickup_year                    int64\n",
       "pickup_month                   int64\n",
       "pickup_weekday                 int64\n",
       "pickup_day                     int64\n",
       "night                          int64\n",
       "dtype: object"
      ]
     },
     "execution_count": 151,
     "metadata": {},
     "output_type": "execute_result"
    }
   ],
   "source": [
    "df.dtypes"
   ]
  },
  {
   "cell_type": "markdown",
   "metadata": {},
   "source": [
    "3. Dropping unnecessary columns and creating dataframe for modelling,"
   ]
  },
  {
   "cell_type": "code",
   "execution_count": 152,
   "metadata": {},
   "outputs": [],
   "source": [
    "X = df.drop(['key','pickup_datetime','fare_amount','passenger_count','pickup_time'], axis = 1)"
   ]
  },
  {
   "cell_type": "markdown",
   "metadata": {},
   "source": [
    "4. Splitting the dataset into training and test data,"
   ]
  },
  {
   "cell_type": "code",
   "execution_count": 153,
   "metadata": {
    "scrolled": true
   },
   "outputs": [],
   "source": [
    "X_train, X_test, Y_train, Y_test = train_test_split(X, df.fare_amount, test_size=0.1, random_state=123)  #split is 90:10"
   ]
  },
  {
   "cell_type": "markdown",
   "metadata": {},
   "source": [
    "5. Train the model using training sets,"
   ]
  },
  {
   "cell_type": "code",
   "execution_count": 154,
   "metadata": {},
   "outputs": [
    {
     "data": {
      "text/plain": [
       "LinearRegression(copy_X=True, fit_intercept=True, n_jobs=1, normalize=False)"
      ]
     },
     "execution_count": 154,
     "metadata": {},
     "output_type": "execute_result"
    }
   ],
   "source": [
    "lm.fit(X_train, Y_train)"
   ]
  },
  {
   "cell_type": "markdown",
   "metadata": {},
   "source": [
    "6. Print the scores, coefficients, intercept"
   ]
  },
  {
   "cell_type": "code",
   "execution_count": 155,
   "metadata": {},
   "outputs": [
    {
     "data": {
      "text/plain": [
       "0.7470554222117534"
      ]
     },
     "execution_count": 155,
     "metadata": {},
     "output_type": "execute_result"
    }
   ],
   "source": [
    "lm.score(X_train, Y_train)"
   ]
  },
  {
   "cell_type": "code",
   "execution_count": 156,
   "metadata": {},
   "outputs": [
    {
     "data": {
      "text/plain": [
       "0.7368730454051191"
      ]
     },
     "execution_count": 156,
     "metadata": {},
     "output_type": "execute_result"
    }
   ],
   "source": [
    "lm.score(X_test, Y_test)"
   ]
  },
  {
   "cell_type": "code",
   "execution_count": 157,
   "metadata": {},
   "outputs": [
    {
     "data": {
      "text/plain": [
       "-51.53359484251811"
      ]
     },
     "execution_count": 157,
     "metadata": {},
     "output_type": "execute_result"
    }
   ],
   "source": [
    "lm.intercept_"
   ]
  },
  {
   "cell_type": "code",
   "execution_count": 158,
   "metadata": {
    "scrolled": true
   },
   "outputs": [
    {
     "data": {
      "text/plain": [
       "array([-1.10980304e+00, -1.92282649e+01, -1.65949006e+00, -1.11869250e+01,\n",
       "        2.48394074e+02, -8.64219355e-01,  9.17777838e-03,  5.42099638e-01,\n",
       "        7.32196679e-02, -3.06403105e-02,  1.46812133e-03, -9.79932738e-01])"
      ]
     },
     "execution_count": 158,
     "metadata": {},
     "output_type": "execute_result"
    }
   ],
   "source": [
    "lm.coef_"
   ]
  },
  {
   "cell_type": "markdown",
   "metadata": {},
   "source": [
    "7. Now, predicting the test set"
   ]
  },
  {
   "cell_type": "code",
   "execution_count": 159,
   "metadata": {},
   "outputs": [],
   "source": [
    "pred_test = lm.predict(X_test)"
   ]
  },
  {
   "cell_type": "markdown",
   "metadata": {},
   "source": [
    "8. Calculating root mean squared error,"
   ]
  },
  {
   "cell_type": "code",
   "execution_count": 160,
   "metadata": {},
   "outputs": [
    {
     "data": {
      "text/plain": [
       "4.930695386864848"
      ]
     },
     "execution_count": 160,
     "metadata": {},
     "output_type": "execute_result"
    }
   ],
   "source": [
    "lrmse = np.sqrt(mean_squared_error(Y_test, pred_test))\n",
    "lrmse"
   ]
  },
  {
   "cell_type": "markdown",
   "metadata": {},
   "source": [
    "9. Calculating r2 score,"
   ]
  },
  {
   "cell_type": "code",
   "execution_count": 161,
   "metadata": {
    "scrolled": true
   },
   "outputs": [
    {
     "data": {
      "text/plain": [
       "0.6443436883948082"
      ]
     },
     "execution_count": 161,
     "metadata": {},
     "output_type": "execute_result"
    }
   ],
   "source": [
    "r2_score(pred_test, Y_test)"
   ]
  },
  {
   "cell_type": "markdown",
   "metadata": {},
   "source": [
    "The RMSE and R2 score shows that the prediction was not very good."
   ]
  },
  {
   "cell_type": "markdown",
   "metadata": {},
   "source": [
    "10. Let's train on the entire data set and do an initial prediction for Kaggle test set."
   ]
  },
  {
   "cell_type": "code",
   "execution_count": 162,
   "metadata": {},
   "outputs": [],
   "source": [
    "test = pd.read_csv('test.csv', parse_dates = [\"pickup_datetime\"])"
   ]
  },
  {
   "cell_type": "markdown",
   "metadata": {},
   "source": [
    "11. Create the feature columns and add them to Kaggle test set."
   ]
  },
  {
   "cell_type": "code",
   "execution_count": 163,
   "metadata": {},
   "outputs": [],
   "source": [
    "test['euclidean_distance'] = test.apply (lambda row: euclidean_distance(row), axis = 1)\n",
    "test['haversine_distance'] = test.apply (lambda row: haversine_distance(row), axis = 1)\n",
    "test['pickup_time_hours'] = test.apply (lambda row: time_in_hours(row.pickup_datetime.time()), axis = 1)\n",
    "test['pickup_year'] = test.apply (lambda row: row.pickup_datetime.year, axis = 1)\n",
    "test['pickup_month'] = test.apply (lambda row: row.pickup_datetime.month, axis = 1)\n",
    "test['pickup_weekday'] = test.apply (lambda row: row.pickup_datetime.weekday(), axis = 1)\n",
    "test['pickup_day'] = test.apply (lambda row: row.pickup_datetime.day, axis = 1)\n",
    "test['night'] = test.apply (lambda row: (1 if (row.pickup_time_hours>=20 or row.pickup_time_hours<8) else 0), axis = 1)"
   ]
  },
  {
   "cell_type": "markdown",
   "metadata": {},
   "source": [
    "12. Replace the NaN values with 0."
   ]
  },
  {
   "cell_type": "code",
   "execution_count": 164,
   "metadata": {},
   "outputs": [],
   "source": [
    "test.fillna(0, inplace=True)"
   ]
  },
  {
   "cell_type": "markdown",
   "metadata": {},
   "source": [
    "13. Drop the columns not taken into account for prediction."
   ]
  },
  {
   "cell_type": "code",
   "execution_count": 165,
   "metadata": {},
   "outputs": [],
   "source": [
    "Y = test.drop(['key','pickup_datetime','passenger_count'], axis = 1)"
   ]
  },
  {
   "cell_type": "markdown",
   "metadata": {},
   "source": [
    "14. Train on the entire data set and predict for Kaggle test set."
   ]
  },
  {
   "cell_type": "code",
   "execution_count": 166,
   "metadata": {},
   "outputs": [
    {
     "data": {
      "text/plain": [
       "LinearRegression(copy_X=True, fit_intercept=True, n_jobs=1, normalize=False)"
      ]
     },
     "execution_count": 166,
     "metadata": {},
     "output_type": "execute_result"
    }
   ],
   "source": [
    "lm.fit(X, df['fare_amount'])"
   ]
  },
  {
   "cell_type": "code",
   "execution_count": 167,
   "metadata": {},
   "outputs": [],
   "source": [
    "predictions = lm.predict(Y)"
   ]
  },
  {
   "cell_type": "markdown",
   "metadata": {},
   "source": [
    "15. Create initial submission file."
   ]
  },
  {
   "cell_type": "code",
   "execution_count": 168,
   "metadata": {},
   "outputs": [],
   "source": [
    "sub = pd.DataFrame({'key': test['key'], 'fare_amount': predictions})\n",
    "sub.to_csv('lr_submission.csv', index = False)"
   ]
  },
  {
   "cell_type": "markdown",
   "metadata": {},
   "source": [
    "---\n",
    "### Task 7"
   ]
  },
  {
   "cell_type": "markdown",
   "metadata": {},
   "source": [
    "External Datasets that can be considered are:\n",
    "1. NYC Street Distance Data: A dataset consisting of geographical coordinate pairs of starting and stopping points on the New York streets and also the average street distance traveled through taxis between these two points (considering lanes and one-way streets). This can be a better measure of distance as compared to euclidean or haversine distances.\n",
    "2. NYC Traffic Data: A dataset consisting of the time it takes to travel between different geographical coordinates in NYC during different times of the day (time can be different if traveled in opposite direction). This time taken along with distance traveled can be used to improve fare prediction.\n",
    "3. Airport Coordinates Data: A dataset consisting of various taxi pickup/dropoff coordinate points around New York airports which can be mapped to the current data so that airport fares can be taken into consideration while predicting total fare amount."
   ]
  },
  {
   "cell_type": "markdown",
   "metadata": {},
   "source": [
    "---\n",
    "### Task 8"
   ]
  },
  {
   "cell_type": "markdown",
   "metadata": {},
   "source": [
    "1. Start with a copy of entire dataframe for another prediction model"
   ]
  },
  {
   "cell_type": "code",
   "execution_count": 195,
   "metadata": {},
   "outputs": [],
   "source": [
    "DF = df"
   ]
  },
  {
   "cell_type": "markdown",
   "metadata": {},
   "source": [
    "2. As seen in the distribution plot of fare amount, we see a small spike towards the end of the distribution. We'll drop the rows with fare amount > $\\$$450 since they can be considered outliers."
   ]
  },
  {
   "cell_type": "code",
   "execution_count": 196,
   "metadata": {},
   "outputs": [],
   "source": [
    "DF = DF[DF.fare_amount<450]"
   ]
  },
  {
   "cell_type": "markdown",
   "metadata": {},
   "source": [
    "3. Preparing the dataframe for modelling, we'll drop some columns which do not seem to be much correlated with fare amount"
   ]
  },
  {
   "cell_type": "code",
   "execution_count": 197,
   "metadata": {},
   "outputs": [],
   "source": [
    "X = DF.drop(['key','pickup_datetime','passenger_count','fare_amount','pickup_time','pickup_day'], axis = 1)"
   ]
  },
  {
   "cell_type": "markdown",
   "metadata": {},
   "source": [
    "4. Again splitting the data set for training and testing,"
   ]
  },
  {
   "cell_type": "code",
   "execution_count": 207,
   "metadata": {},
   "outputs": [],
   "source": [
    "X_train, X_test, Y_train, Y_test = train_test_split(X, DF.fare_amount, test_size=0.2, random_state=123)  #split is 80:20"
   ]
  },
  {
   "cell_type": "markdown",
   "metadata": {},
   "source": [
    "**Decision Tree Regressor**"
   ]
  },
  {
   "cell_type": "markdown",
   "metadata": {},
   "source": [
    "5. We'll use decision tree regressor to make predictions"
   ]
  },
  {
   "cell_type": "code",
   "execution_count": 208,
   "metadata": {},
   "outputs": [],
   "source": [
    "dt = DecisionTreeRegressor(max_depth=10)"
   ]
  },
  {
   "cell_type": "code",
   "execution_count": 209,
   "metadata": {},
   "outputs": [
    {
     "data": {
      "text/plain": [
       "DecisionTreeRegressor(criterion='mse', max_depth=10, max_features=None,\n",
       "           max_leaf_nodes=None, min_impurity_decrease=0.0,\n",
       "           min_impurity_split=None, min_samples_leaf=1,\n",
       "           min_samples_split=2, min_weight_fraction_leaf=0.0,\n",
       "           presort=False, random_state=None, splitter='best')"
      ]
     },
     "execution_count": 209,
     "metadata": {},
     "output_type": "execute_result"
    }
   ],
   "source": [
    "dt.fit(X_train, Y_train)"
   ]
  },
  {
   "cell_type": "code",
   "execution_count": 210,
   "metadata": {},
   "outputs": [],
   "source": [
    "pred_test = dt.predict(X_test)"
   ]
  },
  {
   "cell_type": "code",
   "execution_count": 211,
   "metadata": {},
   "outputs": [
    {
     "data": {
      "text/plain": [
       "3.6249230908994226"
      ]
     },
     "execution_count": 211,
     "metadata": {},
     "output_type": "execute_result"
    }
   ],
   "source": [
    "lrmse = np.sqrt(mean_squared_error(Y_test, pred_test))\n",
    "lrmse"
   ]
  },
  {
   "cell_type": "code",
   "execution_count": 212,
   "metadata": {},
   "outputs": [
    {
     "data": {
      "text/plain": [
       "0.8320647688386487"
      ]
     },
     "execution_count": 212,
     "metadata": {},
     "output_type": "execute_result"
    }
   ],
   "source": [
    "r2_score(pred_test, Y_test)"
   ]
  },
  {
   "cell_type": "markdown",
   "metadata": {},
   "source": [
    "6. The RMSE seem to have significantly reduced. Thus, Decision Tree Regressor proves to be a better prediction model."
   ]
  },
  {
   "cell_type": "markdown",
   "metadata": {},
   "source": [
    "**Light Gradient Boosted Modelling**"
   ]
  },
  {
   "cell_type": "markdown",
   "metadata": {},
   "source": [
    "7. We'll use a very simple LightGBM training method which uses tree based learning algorithm. We'll use default parameters for now to predict the fare."
   ]
  },
  {
   "cell_type": "code",
   "execution_count": 213,
   "metadata": {},
   "outputs": [],
   "source": [
    "train_set = lgbm.Dataset(X_train, Y_train)"
   ]
  },
  {
   "cell_type": "code",
   "execution_count": 214,
   "metadata": {},
   "outputs": [],
   "source": [
    "model = lgbm.train({}, train_set)"
   ]
  },
  {
   "cell_type": "code",
   "execution_count": 215,
   "metadata": {},
   "outputs": [],
   "source": [
    "pred_test = model.predict(X_test)"
   ]
  },
  {
   "cell_type": "code",
   "execution_count": 216,
   "metadata": {},
   "outputs": [
    {
     "data": {
      "text/plain": [
       "3.419160841012459"
      ]
     },
     "execution_count": 216,
     "metadata": {},
     "output_type": "execute_result"
    }
   ],
   "source": [
    "lrmse = np.sqrt(mean_squared_error(Y_test, pred_test))\n",
    "lrmse"
   ]
  },
  {
   "cell_type": "markdown",
   "metadata": {},
   "source": [
    "8. Again the RMSE has improved than before. Thus, we'll use this model to train on entire training set and predict the Kaggle test set."
   ]
  },
  {
   "cell_type": "code",
   "execution_count": 217,
   "metadata": {},
   "outputs": [],
   "source": [
    "train_set = lgbm.Dataset(X, DF['fare_amount'])"
   ]
  },
  {
   "cell_type": "code",
   "execution_count": 218,
   "metadata": {},
   "outputs": [],
   "source": [
    "model = lgbm.train({}, train_set)"
   ]
  },
  {
   "cell_type": "code",
   "execution_count": 219,
   "metadata": {},
   "outputs": [],
   "source": [
    "Y = test.drop(['key','pickup_datetime','passenger_count','pickup_day'], axis = 1)"
   ]
  },
  {
   "cell_type": "code",
   "execution_count": 220,
   "metadata": {},
   "outputs": [],
   "source": [
    "predictions = model.predict(Y)"
   ]
  },
  {
   "cell_type": "markdown",
   "metadata": {},
   "source": [
    "---\n",
    "### Task 9"
   ]
  },
  {
   "cell_type": "markdown",
   "metadata": {},
   "source": [
    "Saving the final predictions to a csv file,"
   ]
  },
  {
   "cell_type": "code",
   "execution_count": 221,
   "metadata": {},
   "outputs": [],
   "source": [
    "sub = pd.DataFrame({'key': test['key'], 'fare_amount': predictions})\n",
    "sub.to_csv('kaggle_submission.csv', index = False)"
   ]
  },
  {
   "cell_type": "markdown",
   "metadata": {},
   "source": [
    "There are many ways in which my prediction can be improved.\n",
    "1. I have used only a certain subset of rows from the entire training dataset given because of PC specifications. We can increase the input training set to improve the prediction.\n",
    "2. Use one hot encoding for features like week days and months. It may give better predictions.\n",
    "3. Observe the pickup/dropoff coordinates and drop those which are invalid, e.g. coordinates in water.\n",
    "4. Consider airport coordinates and build one hot encoding feature for whether the trip fare will contain airport base fare."
   ]
  }
 ],
 "metadata": {
  "kernelspec": {
   "display_name": "Python 2",
   "language": "python",
   "name": "python2"
  },
  "language_info": {
   "codemirror_mode": {
    "name": "ipython",
    "version": 2
   },
   "file_extension": ".py",
   "mimetype": "text/x-python",
   "name": "python",
   "nbconvert_exporter": "python",
   "pygments_lexer": "ipython2",
   "version": "2.7.15"
  }
 },
 "nbformat": 4,
 "nbformat_minor": 2
}
